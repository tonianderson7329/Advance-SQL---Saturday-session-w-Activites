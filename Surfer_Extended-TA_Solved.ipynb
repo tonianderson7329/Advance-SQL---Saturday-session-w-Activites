{
 "cells": [
  {
   "cell_type": "code",
   "execution_count": 46,
   "metadata": {},
   "outputs": [],
   "source": [
    "# Define the Surfer Class\n",
    "class Surfer():\n",
    "    \n",
    "    surfCount = 0\n",
    "    \n",
    "    def __init__(self,name, hometown, rank, wipeouts=0):\n",
    "        self.name = name\n",
    "        self.hometown = hometown\n",
    "        self.rank = rank\n",
    "        self.wipeouts = wipeouts\n",
    "        Surfer.surfCount += 1\n",
    "        \n",
    "    def speak(self):\n",
    "        print(\"Hangs loose, bruh!\")\n",
    "    \n",
    "    def biography(self):\n",
    "        print(f\"My name is {self.name}, I am from {self.hometown} and rank #{self.rank}, I've wiped out {self.wipeouts} times!\")\n",
    "    \n",
    "    def cheer(self):\n",
    "        if self.wipeouts == 0:\n",
    "            print('I totally rock man, no wipeouts!')\n",
    "        else:\n",
    "            print('Bummer bruh, keep on keeping on!')\n",
    "        \n",
    "    def surfer_count(self):\n",
    "         print(\"Total surfers shredding waves %d\" % Surfer.surfCount)"
   ]
  },
  {
   "cell_type": "code",
   "execution_count": 50,
   "metadata": {},
   "outputs": [
    {
     "name": "stdout",
     "output_type": "stream",
     "text": [
      "Donna Summers\n",
      "New York\n",
      "10\n",
      "2\n",
      "Hangs loose, bruh!\n",
      "Bummer bruh, keep on keeping on!\n",
      "My name is Donna Summers, I am from New York and rank #10, I've wiped out 2 times!\n",
      "Total surfers shredding waves 3\n"
     ]
    }
   ],
   "source": [
    "# Create Surfers\n",
    "surfer = Surfer('Donna Summers', 'New York', 10,2)\n",
    "\n",
    "# Print the object's attributes\n",
    "print(surfer.name)\n",
    "print(surfer.hometown)\n",
    "print(surfer.rank)\n",
    "print(surfer.wipeouts)\n",
    "surfer.speak()\n",
    "surfer.cheer()\n",
    "surfer.biography()\n",
    "surfer.surfer_count()"
   ]
  },
  {
   "cell_type": "code",
   "execution_count": null,
   "metadata": {},
   "outputs": [],
   "source": []
  }
 ],
 "metadata": {
  "kernelspec": {
   "display_name": "Python 3",
   "language": "python",
   "name": "python3"
  },
  "language_info": {
   "codemirror_mode": {
    "name": "ipython",
    "version": 3
   },
   "file_extension": ".py",
   "mimetype": "text/x-python",
   "name": "python",
   "nbconvert_exporter": "python",
   "pygments_lexer": "ipython3",
   "version": "3.6.4"
  },
  "varInspector": {
   "cols": {
    "lenName": 16,
    "lenType": 16,
    "lenVar": 40
   },
   "kernels_config": {
    "python": {
     "delete_cmd_postfix": "",
     "delete_cmd_prefix": "del ",
     "library": "var_list.py",
     "varRefreshCmd": "print(var_dic_list())"
    },
    "r": {
     "delete_cmd_postfix": ") ",
     "delete_cmd_prefix": "rm(",
     "library": "var_list.r",
     "varRefreshCmd": "cat(var_dic_list()) "
    }
   },
   "types_to_exclude": [
    "module",
    "function",
    "builtin_function_or_method",
    "instance",
    "_Feature"
   ],
   "window_display": false
  }
 },
 "nbformat": 4,
 "nbformat_minor": 2
}
